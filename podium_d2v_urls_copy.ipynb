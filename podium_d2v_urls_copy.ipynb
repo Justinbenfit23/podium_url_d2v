{
  "cells": [
    {
      "cell_type": "code",
      "execution_count": 6,
      "metadata": {},
      "outputs": [],
      "source": [
        "# !conda install gensim\n",
        "#NOTE: See this medium article that I drew on heavily for this solution:\n",
        "#https://medium.com/betacom/unsupervised-nlp-task-in-python-with-doc2vec-da1f7727857d\n",
        "\n",
        "import pandas as pd\n",
        "import gensim\n",
        "from gensim.parsing.preprocessing import preprocess_documents\n",
        "from gensim.models.doc2vec import Doc2Vec, TaggedDocument"
      ]
    },
    {
      "cell_type": "code",
      "execution_count": 50,
      "metadata": {},
      "outputs": [],
      "source": [
        "#reduce size of datasets to push to github\n",
        "# scraped_urls = pd.read_csv('DATASETS/podium_location_urls copy.csv')\n",
        "# scraped_urls = scraped_urls.sample(100)\n",
        "# urls_for_scrap = pd.read_csv('DATASETS/urls_for_scraping copy.csv')\n",
        "# urls_for_scrap = urls_for_scrap.sample(100)\n",
        "\n",
        "# scraped_urls.to_csv('DATASETS/podium_location_urls copy.csv')\n",
        "# urls_for_scrap.to_csv('DATASETS/urls_for_scraping copy.csv')"
      ]
    },
    {
      "cell_type": "code",
      "execution_count": 7,
      "metadata": {},
      "outputs": [
        {
          "name": "stdout",
          "output_type": "stream",
          "text": [
            "22902\n",
            "Index(['Unnamed: 0', 'Account_Name', 'Org_UID', 'Opportunity_Name', 'Type',\n",
            "       'url', 'raw_html_text'],\n",
            "      dtype='object')\n"
          ]
        }
      ],
      "source": [
        "import pandas as pd\n",
        "location_urls = pd.read_csv('./DATASETS/podium_location_urls copy.csv',delimiter=',', encoding=\"utf-8\", skipinitialspace=True)\n",
        "location_urls.drop_duplicates(subset=['url'],inplace=True)\n",
        "# still not right merge\n",
        "print(len(location_urls))\n",
        "print(location_urls.columns)"
      ]
    },
    {
      "cell_type": "code",
      "execution_count": 8,
      "metadata": {},
      "outputs": [
        {
          "data": {
            "text/plain": [
              "22902"
            ]
          },
          "execution_count": 8,
          "metadata": {},
          "output_type": "execute_result"
        }
      ],
      "source": [
        "len(location_urls)"
      ]
    },
    {
      "cell_type": "code",
      "execution_count": 9,
      "metadata": {},
      "outputs": [
        {
          "name": "stdout",
          "output_type": "stream",
          "text": [
            "   Unnamed: 0             Account_Name Org_UID Opportunity_Name Type  \\\n",
            "0           0              Jody Savage     NaN              NaN  NaN   \n",
            "1           1  Mountain View Financial     NaN              NaN  NaN   \n",
            "2           2                    fhgjh     NaN              NaN  NaN   \n",
            "3           3         Focus Floors LLC     NaN              NaN  NaN   \n",
            "4           4         Maplewood Senior     NaN              NaN  NaN   \n",
            "\n",
            "                                    url  \\\n",
            "0            http://www.jodysavage.com/   \n",
            "1  http://www.mountainviewfinancial.com   \n",
            "2              http://www.naluzotan.com   \n",
            "3              https://focusfloors.net/   \n",
            "4  http://www.maplewoodseniorliving.com   \n",
            "\n",
            "                                       raw_html_text  \n",
            "0  \\n \\n \\n \\n \\n \\n \\n \\n \\n \\n \\n \\n \\n \\n Sava...  \n",
            "1  \\n \\n \\n \\n \\n \\n \\n \\n \\n \\n \\n \\n connectFir...  \n",
            "2                                        no response  \n",
            "3  Focus Floors \\n \\n \\n \\n (614) 751-2117 (614) ...  \n",
            "4  \\n 403 Forbidden \\n \\n 403 Forbidden \\n nginx ...  \n"
          ]
        },
        {
          "data": {
            "text/plain": [
              "22902"
            ]
          },
          "execution_count": 9,
          "metadata": {},
          "output_type": "execute_result"
        }
      ],
      "source": [
        "print(location_urls.head())\n",
        "len(location_urls)"
      ]
    },
    {
      "cell_type": "code",
      "execution_count": 10,
      "metadata": {},
      "outputs": [],
      "source": [
        "location_urls = location_urls.loc[location_urls['raw_html_text'].notna()]\n",
        "location_urls = location_urls.loc[~location_urls['raw_html_text'].isin(['no response'])]\n",
        "location_urls = location_urls.loc[~location_urls['raw_html_text'].str.contains('Access was denied')]"
      ]
    },
    {
      "cell_type": "code",
      "execution_count": 11,
      "metadata": {},
      "outputs": [],
      "source": [
        "location_urls['raw_html_text'] = location_urls['raw_html_text'].str.replace(\"\\n\",\"\")\n",
        "location_urls['raw_html_text'] = location_urls['raw_html_text'].str.replace(\"\\t\",\"\")\n",
        "location_urls['raw_html_text'] = location_urls['raw_html_text'].str.replace(\"\\r\",\"\")\n",
        "location_urls['raw_html_text'] = location_urls['raw_html_text'].str.replace(\"\\ufeff\",\"\")\n",
        "location_urls['raw_html_text'] = location_urls['raw_html_text'].str.split()\n",
        "location_urls['raw_html_text'] = [\" \".join(x) for x in location_urls['raw_html_text']]"
      ]
    },
    {
      "cell_type": "code",
      "execution_count": 12,
      "metadata": {},
      "outputs": [],
      "source": [
        "len(location_urls.loc[location_urls['raw_html_text'].str.len()<50])\n",
        "location_urls.loc[location_urls['raw_html_text'].str.len()<50,'raw_html_text'].head()\n",
        "location_urls = location_urls.loc[location_urls['raw_html_text'].str.len()>50].reset_index(drop=True)"
      ]
    },
    {
      "cell_type": "code",
      "execution_count": 13,
      "metadata": {},
      "outputs": [
        {
          "data": {
            "text/plain": [
              "15450"
            ]
          },
          "execution_count": 13,
          "metadata": {},
          "output_type": "execute_result"
        }
      ],
      "source": [
        "len(location_urls)"
      ]
    },
    {
      "cell_type": "code",
      "execution_count": 14,
      "metadata": {},
      "outputs": [
        {
          "data": {
            "text/plain": [
              "'Savage Real Estate Group - Savage Real Estate Group Skip to content Savage Real Estate Group Serving Bozeman and the Gallatin Valley Home Featured Listings Listings 3D Virtual Home Tours 406.209.8884 Buyers Sellers Market Stats About Us Testimonials Bozeman Info Articles Contact Us Savage Real Estate Group Experienced Real Estate Brokerage in Bozeman, MT Serving Bozeman, Belgrade, Livingston and the Gallatin Valley View listings by city: Bozeman | Belgrade | Livingston | Three Forks $1,499,000 49 Riparian Way Bozeman, Montana 5 Beds | 5 Baths | 0.946 Acres $1,450,000 1984 Vaquero Parkway Bozeman, Montana 4 Beds | 3 Baths | 0.1583 Acres $1,425,000 433 Princeton Place Bozeman, Montana 5 Beds | 4 Baths | 0.2738 Acres $1,400,000 107 Kimber Court Bozeman, Montana 1 Bed | 1 Bath | 7.44 Acres $1,399,000 513 Cambridge Drive Bozeman, Montana 6 Beds | 4 Baths | 0.2915 Acres $1,375,000 5190 Copeland Bozeman, Montana 4 Beds | 3 Baths | 1.206 Acres $1,365,000 4616 Danube Lane Bozeman, Montana 4 Beds | 4 Baths | 0.42 Acres $1,350,000 920 Manley Road Bozeman, Montana 2 Beds | 2 Baths | 2.025 Acres $1,349,900 195 Arrow Trail Bozeman, Montana 4 Beds | 3 Baths | 0.26 Acres $1,325,000 3695 Tschache Bozeman, Montana 4 Beds | 3 Baths | 0.335 Acres $1,275,000 4558 Perry Street Bozeman, Montana 4 Beds | 3 Baths | 0.2048 Acres $1,250,000 38 Hitching Post Rd. Bozeman, Montana 4 Beds | 4 Baths | 0.48 Acres $1,250,000 967 Auger Lane Bozeman, Montana 4 Beds | 3 Baths | 0.1947 Acres $1,250,000 402 Circle F Trl Bozeman, Montana 5 Beds | 3 Baths | 0.27 Acres $1,200,000 1049 Winchester Bozeman, Montana 5 Beds | 2 Baths | 5.621 Acres $1,200,000 82 Arrow Trail Bozeman, Montana 5 Beds | 3 Baths | 0.2557 Acres $1,199,000 3214 Hillcrest Drive Bozeman, Montana 4 Beds | 3 Baths | 0.1928 Acres $1,195,000 288 Parklands Trail Bozeman, Montana 5 Beds | 3 Baths | 0.259 Acres $1,175,000 5 W Mendenhall Avenue 417 Bozeman, Montana 2 Beds | 2 Baths $1,100,000 1186 Ludwig Lane Bozeman, Montana 3 Beds | 1 Bath | 5 Acres $1,095,000 3487 S 22nd Ave. Bozeman, Montana 5 Beds | 3 Baths | 0.1986 Acres $1,050,000 330 Lake Drive Bozeman, Montana 3 Beds | 3 Baths | 1 Acres $1,050,000 6601 Blackwood Road Bozeman, Montana 3 Beds | 3 Baths | 0.1692 Acres $1,050,000 560 Clifden Drive Bozeman, Montana 5 Beds | 3 Baths | 0.17 Acres $998,500 1706 Terrace Avenue Bozeman, Montana 4 Beds | 3 Baths | 0.2984 Acres $989,000 2302 Ferguson Avenue Bozeman, Montana 6 Beds | 4 Baths | 0.222 Acres $989,000 3258 S 26th Avenue Bozeman, Montana 4 Beds | 3 Baths | 0.1893 Acres $989,000 1608 Gale Court Bozeman, Montana 4 Beds | 4 Baths | 0.15 Acres $967,000 8219 Balsam Drive Bozeman, Montana 3 Beds | 2 Baths | 2.128 Acres $949,950 5467 Vahl Way Bozeman, Montana 3 Beds | 3 Baths | 0.1188 Acres $949,900 4479 W Babcock Bozeman, Montana 4 Beds | 4 Baths | 0.1607 Acres $949,900 3320B Sundance Drive Bozeman, Montana 4 Beds | 2 Baths | 1.071 Acres $949,900 1414 S Grand Avenue Bozeman, Montana 5 Beds | 3 Baths | 0.3099 Acres $949,000 1735 Ryun Sun Way Bozeman, Montana 3 Beds | 2 Baths | 0.1947 Acres $899,900 26 Pathfinder Trail Bozeman, Montana 4 Beds | 3 Baths | 0.469 Acres $899,900 2209 Fairway Drive B3 Bozeman, Montana 3 Beds | 2 Baths $895,000 2008 Jacobs Street Bozeman, Montana 4 Beds | 3 Baths | 0.2035 Acres $895,000 55 W Clara Court Bozeman, Montana 4 Beds | 3 Baths | 0.28 Acres $880,000 2891 S 30th Avenue Bozeman, Montana 3 Beds | 3 Baths | 0.093 Acres $875,000 306 Dogwood Drive Bozeman, Montana 4 Beds | 3 Baths | 0.1841 Acres $875,000 425 W Olive Street Bozeman, Montana 4 Beds | 2 Baths | 0.1722 Acres $875,000 530 Christopher Way Bozeman, Montana 3 Beds | 3 Baths $850,000 410 E Aspen Street Bozeman, Montana 4 Beds | 2 Baths | 0.2054 Acres $850,000 1703 Park View Place Bozeman, Montana 4 Beds | 3 Baths | 0.931 Acres $850,000 876 Mountain Elk Road Bozeman, Montana 1 Bed | 1 Bath | 20.093 Acres $835,000 22 Battle Peak Drive Bozeman, Montana 4 Beds | 3 Baths | 0.223 Acres $825,000 692 Cameron Loop Bozeman, Montana 3 Beds | 4 Baths | 0.529 Acres $799,000 403 W Short Bozeman, Montana 4 Beds | 2 Baths | 0.2009 Acres $799,000 415 N 18th Bozeman, Montana 3 Beds | 2 Baths | 0.177 Acres $774,000 1119 Brookdale Drive Bozeman, Montana 3 Beds | 3 Baths | 0.2093 Acres $765,000 702 Circle F Trail B Bozeman, Montana 4 Beds | 3 Baths $759,000 566 Enterprise Boulevard 25 Bozeman, Montana 3 Beds | 3 Baths $755,000 2989 W Graf Street Bozeman, Montana 3 Beds | 3 Baths $750,000 18 Caboose Court 1 Bozeman, Montana 4 Beds | 3 Baths $745,000 708 Circle F Trail B Bozeman, Montana 4 Beds | 3 Baths $735,000 785 Damarell Bozeman, Montana 3 Beds | 2 Baths | 0.459 Acres $725,000 702 Circle F Trail A Bozeman, Montana 3 Beds | 3 Baths $724,900 55 W Katina Court Bozeman, Montana 4 Beds | 3 Baths | 0.279 Acres $724,000 854 Matheson Way Bozeman, Montana 3 Beds | 2 Baths | 0.147 Acres $700,000 246 Eagle Creek Drive Bozeman, Montana 3 Beds | 3 Baths $699,900 3300 E Graf Street 20 Bozeman, Montana 2 Beds | 2 Baths $695,000 409 Meriwether Avenue Bozeman, Montana 3 Beds | 3 Baths | 0.101 Acres $690,000 5436 Vermeer Lane Bozeman, Montana 3 Beds | 3 Baths | 0.0689 Acres $680,000 100 Albrey Trail C Bozeman, Montana 3 Beds | 2 Baths $675,000 1317 Crabapple Drive Bozeman, Montana 4 Beds | 3 Baths | 0.0712 Acres $674,900 323 Stillwater Creek Drive Bozeman, Montana 3 Beds | 2 Baths $669,900 144 Valleyfire Lane Bozeman, Montana 3 Beds | 2 Baths | 0.1307 Acres $664,000 3922 Bosal Street Bozeman, Montana 3 Beds | 3 Baths | 0.09 Acres $645,000 1060 Cassandra Lane B Bozeman, Montana 3 Beds | 3 Baths $639,900 236 Slough Creek Bozeman, Montana 3 Beds | 2 Baths $629,000 2769 Renee Way Bozeman, Montana 4 Beds | 3 Baths | 0.0826 Acres $599,900 1265 Baxter Creek Way A Bozeman, Montana 3 Beds | 3 Baths $599,000 213 Donna Avenue Bozeman, Montana 3 Beds | 2 Baths | 0.1825 Acres $599,000 1118 Saxon Way A Bozeman, Montana 3 Beds | 2 Baths $565,000 4040 Ravalli Street 101 Bozeman, Montana 2 Beds | 2 Baths $547,500 2945 Warbler 1 Bozeman, Montana 3 Beds | 3 Baths $545,000 4050 W Babcock 6 Bozeman, Montana 2 Beds | 2 Baths $530,000 2378 W Beall Street 2 Bozeman, Montana 2 Beds | 2 Baths $529,000 207 Prairie Grass Court D Bozeman, Montana 3 Beds | 2 Baths | 0 Acres $525,000 31 Halo Drive Bozeman, Montana 3 Beds | 2 Baths $520,000 1015 Longbow Lane A Bozeman, Montana 3 Beds | 3 Baths $489,800 462 Black Bull Trl B Bozeman, Montana 1 Bed | 1 Bath $485,000 3040 Winter Park Street A Bozeman, Montana 2 Beds | 2 Baths $479,000 205 S YELLOWSTONE AVE UNIT D D Bozeman, Montana 3 Beds | 2 Baths $469,000 323 Magdalene Way B Bozeman, Montana 3 Beds | 3 Baths $465,000 2365 Turkey Red Lane A Bozeman, Montana 2 Beds | 1 Bath | 0.907 Acres $417,500 29 Border Lane 2 Bozeman, Montana 3 Beds | 2 Baths $399,900 3327 N 27th Avenue 18 Bozeman, Montana 2 Beds | 2 Baths $399,000 3165 Mistral Way Bozeman, Montana 2 Beds | 1 Bath | 0.0854 Acres $389,000 170 Talon Way A Bozeman, Montana 2 Beds | 2 Baths $385,000 1703 W Olive Street 12 Bozeman, Montana 2 Beds | 1 Bath $385,000 2720 Sartain Street 305B Bozeman, Montana 1 Bed | 2 Baths $349,900 3505 A Fallon St A6 Bozeman, Montana 2 Beds | 1 Bath $349,900 3303 Fallon Street 1D Bozeman, Montana 2 Beds | 2 Baths $346,000 228 S Cottonwood Road 306 Bozeman, Montana 2 Beds | 2 Baths Information for Home Buyers Information for Home Sellers © Virtual Open House – We feature your home with our innovative 3D virtual walk-through tours which helps it stand out from competing homes. Learn More About Virtual Tours Open Open Open Open Open Open Open Open Open Open Open Open Open Open Open Open Open Open Open Open What our clients are saying: Jody Savage is knowledgeable, trustworthy and tireless. I purchased a property this spring (2017) near Bozeman; Jody represented me as well as the seller in the transaction. Jody led me through the entire process because this was the first property I had ever purchased. HOA complications and other details made the purchase more difficult. Jody undertook a boat-load of legwork to make the transaction go smoothly. I hope to work with Jody again. J.D. Jody is amazing. She knows the market and was able to advise us on all our many concerns. We so appreciated how responsive she was; within minutes of submitting an online request for realtor contact on a house, she had called us. All our communications with her were like that; we never had to wait long to hear back from her. She was patient and always willing to sit down and meet with us. When we found the house we wanted, she worked tirelessly to secure it for us, and she was extremely patient with us. She was easy to communicate with, understand, and a pleasure to work with – I highly recommend Jody! J.T. Jody was awesome to work with. We were new to the area and she was helpful and knowledgeable about not only the housing market, but schools, and lenders. She worked with my work schedule for showings. Jody also stayed late to write an offer to meet our schedule. I would recommend Jody to anyone needing a realtor. M.L. My wife and I used Jody Savage for the sale of our home in Gallatin Gateway, MT. Jody was exceptional in all phases of our sale. We had multiple offers over asking price and sold our home in two days! Jody uses up to date modern marketing, was extremely professional and knowledgeable regarding our market and addressing our needs. She was great to work with and very responsive to any questions we had. Jody is the best in the business and we highly recommend her services! G.B. Jody is FANTASTIC!! We were first time home buyers and she was with us ever step of the way! She never made us feel silly for being new to the process. She definitely knows the area, always kept us up to date on new listings and was just a delight to work with. I would have absolutely zero hesitation recommending her to anyone. Thanks for all the hard-work Jody! We love our house! K.G. We are proud to work with amazing clients from these local area businesses: Home Buyers Sellers Listings About Us Testimonials 3D Virtual Home Tours Bozeman Info Articles Contact Stay in touch - Sign up for our real estate newsletter Email Address * © 2022 Savage Real Estate Group. All Rights Reserved.'"
            ]
          },
          "execution_count": 14,
          "metadata": {},
          "output_type": "execute_result"
        }
      ],
      "source": [
        "location_urls['raw_html_text'].loc[0]"
      ]
    },
    {
      "cell_type": "code",
      "execution_count": 15,
      "metadata": {},
      "outputs": [],
      "source": [
        "location_urls.columns\n",
        "location_urls.drop(columns=['Unnamed: 0'], inplace=True)\n",
        "location_urls.index.name = 'index'"
      ]
    },
    {
      "cell_type": "code",
      "execution_count": 16,
      "metadata": {},
      "outputs": [
        {
          "data": {
            "text/plain": [
              "index\n",
              "0    Savage Real Estate Group - Savage Real Estate ...\n",
              "Name: raw_html_text, dtype: object"
            ]
          },
          "execution_count": 16,
          "metadata": {},
          "output_type": "execute_result"
        }
      ],
      "source": [
        "location_urls['raw_html_text'].head(1)"
      ]
    },
    {
      "cell_type": "code",
      "execution_count": 17,
      "metadata": {},
      "outputs": [],
      "source": [
        "text_corpus = location_urls['raw_html_text'].values"
      ]
    },
    {
      "cell_type": "code",
      "execution_count": 18,
      "metadata": {},
      "outputs": [
        {
          "data": {
            "text/plain": [
              "array(['Savage Real Estate Group - Savage Real Estate Group Skip to content Savage Real Estate Group Serving Bozeman and the Gallatin Valley Home Featured Listings Listings 3D Virtual Home Tours 406.209.8884 Buyers Sellers Market Stats About Us Testimonials Bozeman Info Articles Contact Us Savage Real Estate Group Experienced Real Estate Brokerage in Bozeman, MT Serving Bozeman, Belgrade, Livingston and the Gallatin Valley View listings by city: Bozeman | Belgrade | Livingston | Three Forks $1,499,000 49 Riparian Way Bozeman, Montana 5 Beds | 5 Baths | 0.946 Acres $1,450,000 1984 Vaquero Parkway Bozeman, Montana 4 Beds | 3 Baths | 0.1583 Acres $1,425,000 433 Princeton Place Bozeman, Montana 5 Beds | 4 Baths | 0.2738 Acres $1,400,000 107 Kimber Court Bozeman, Montana 1 Bed | 1 Bath | 7.44 Acres $1,399,000 513 Cambridge Drive Bozeman, Montana 6 Beds | 4 Baths | 0.2915 Acres $1,375,000 5190 Copeland Bozeman, Montana 4 Beds | 3 Baths | 1.206 Acres $1,365,000 4616 Danube Lane Bozeman, Montana 4 Beds | 4 Baths | 0.42 Acres $1,350,000 920 Manley Road Bozeman, Montana 2 Beds | 2 Baths | 2.025 Acres $1,349,900 195 Arrow Trail Bozeman, Montana 4 Beds | 3 Baths | 0.26 Acres $1,325,000 3695 Tschache Bozeman, Montana 4 Beds | 3 Baths | 0.335 Acres $1,275,000 4558 Perry Street Bozeman, Montana 4 Beds | 3 Baths | 0.2048 Acres $1,250,000 38 Hitching Post Rd. Bozeman, Montana 4 Beds | 4 Baths | 0.48 Acres $1,250,000 967 Auger Lane Bozeman, Montana 4 Beds | 3 Baths | 0.1947 Acres $1,250,000 402 Circle F Trl Bozeman, Montana 5 Beds | 3 Baths | 0.27 Acres $1,200,000 1049 Winchester Bozeman, Montana 5 Beds | 2 Baths | 5.621 Acres $1,200,000 82 Arrow Trail Bozeman, Montana 5 Beds | 3 Baths | 0.2557 Acres $1,199,000 3214 Hillcrest Drive Bozeman, Montana 4 Beds | 3 Baths | 0.1928 Acres $1,195,000 288 Parklands Trail Bozeman, Montana 5 Beds | 3 Baths | 0.259 Acres $1,175,000 5 W Mendenhall Avenue 417 Bozeman, Montana 2 Beds | 2 Baths $1,100,000 1186 Ludwig Lane Bozeman, Montana 3 Beds | 1 Bath | 5 Acres $1,095,000 3487 S 22nd Ave. Bozeman, Montana 5 Beds | 3 Baths | 0.1986 Acres $1,050,000 330 Lake Drive Bozeman, Montana 3 Beds | 3 Baths | 1 Acres $1,050,000 6601 Blackwood Road Bozeman, Montana 3 Beds | 3 Baths | 0.1692 Acres $1,050,000 560 Clifden Drive Bozeman, Montana 5 Beds | 3 Baths | 0.17 Acres $998,500 1706 Terrace Avenue Bozeman, Montana 4 Beds | 3 Baths | 0.2984 Acres $989,000 2302 Ferguson Avenue Bozeman, Montana 6 Beds | 4 Baths | 0.222 Acres $989,000 3258 S 26th Avenue Bozeman, Montana 4 Beds | 3 Baths | 0.1893 Acres $989,000 1608 Gale Court Bozeman, Montana 4 Beds | 4 Baths | 0.15 Acres $967,000 8219 Balsam Drive Bozeman, Montana 3 Beds | 2 Baths | 2.128 Acres $949,950 5467 Vahl Way Bozeman, Montana 3 Beds | 3 Baths | 0.1188 Acres $949,900 4479 W Babcock Bozeman, Montana 4 Beds | 4 Baths | 0.1607 Acres $949,900 3320B Sundance Drive Bozeman, Montana 4 Beds | 2 Baths | 1.071 Acres $949,900 1414 S Grand Avenue Bozeman, Montana 5 Beds | 3 Baths | 0.3099 Acres $949,000 1735 Ryun Sun Way Bozeman, Montana 3 Beds | 2 Baths | 0.1947 Acres $899,900 26 Pathfinder Trail Bozeman, Montana 4 Beds | 3 Baths | 0.469 Acres $899,900 2209 Fairway Drive B3 Bozeman, Montana 3 Beds | 2 Baths $895,000 2008 Jacobs Street Bozeman, Montana 4 Beds | 3 Baths | 0.2035 Acres $895,000 55 W Clara Court Bozeman, Montana 4 Beds | 3 Baths | 0.28 Acres $880,000 2891 S 30th Avenue Bozeman, Montana 3 Beds | 3 Baths | 0.093 Acres $875,000 306 Dogwood Drive Bozeman, Montana 4 Beds | 3 Baths | 0.1841 Acres $875,000 425 W Olive Street Bozeman, Montana 4 Beds | 2 Baths | 0.1722 Acres $875,000 530 Christopher Way Bozeman, Montana 3 Beds | 3 Baths $850,000 410 E Aspen Street Bozeman, Montana 4 Beds | 2 Baths | 0.2054 Acres $850,000 1703 Park View Place Bozeman, Montana 4 Beds | 3 Baths | 0.931 Acres $850,000 876 Mountain Elk Road Bozeman, Montana 1 Bed | 1 Bath | 20.093 Acres $835,000 22 Battle Peak Drive Bozeman, Montana 4 Beds | 3 Baths | 0.223 Acres $825,000 692 Cameron Loop Bozeman, Montana 3 Beds | 4 Baths | 0.529 Acres $799,000 403 W Short Bozeman, Montana 4 Beds | 2 Baths | 0.2009 Acres $799,000 415 N 18th Bozeman, Montana 3 Beds | 2 Baths | 0.177 Acres $774,000 1119 Brookdale Drive Bozeman, Montana 3 Beds | 3 Baths | 0.2093 Acres $765,000 702 Circle F Trail B Bozeman, Montana 4 Beds | 3 Baths $759,000 566 Enterprise Boulevard 25 Bozeman, Montana 3 Beds | 3 Baths $755,000 2989 W Graf Street Bozeman, Montana 3 Beds | 3 Baths $750,000 18 Caboose Court 1 Bozeman, Montana 4 Beds | 3 Baths $745,000 708 Circle F Trail B Bozeman, Montana 4 Beds | 3 Baths $735,000 785 Damarell Bozeman, Montana 3 Beds | 2 Baths | 0.459 Acres $725,000 702 Circle F Trail A Bozeman, Montana 3 Beds | 3 Baths $724,900 55 W Katina Court Bozeman, Montana 4 Beds | 3 Baths | 0.279 Acres $724,000 854 Matheson Way Bozeman, Montana 3 Beds | 2 Baths | 0.147 Acres $700,000 246 Eagle Creek Drive Bozeman, Montana 3 Beds | 3 Baths $699,900 3300 E Graf Street 20 Bozeman, Montana 2 Beds | 2 Baths $695,000 409 Meriwether Avenue Bozeman, Montana 3 Beds | 3 Baths | 0.101 Acres $690,000 5436 Vermeer Lane Bozeman, Montana 3 Beds | 3 Baths | 0.0689 Acres $680,000 100 Albrey Trail C Bozeman, Montana 3 Beds | 2 Baths $675,000 1317 Crabapple Drive Bozeman, Montana 4 Beds | 3 Baths | 0.0712 Acres $674,900 323 Stillwater Creek Drive Bozeman, Montana 3 Beds | 2 Baths $669,900 144 Valleyfire Lane Bozeman, Montana 3 Beds | 2 Baths | 0.1307 Acres $664,000 3922 Bosal Street Bozeman, Montana 3 Beds | 3 Baths | 0.09 Acres $645,000 1060 Cassandra Lane B Bozeman, Montana 3 Beds | 3 Baths $639,900 236 Slough Creek Bozeman, Montana 3 Beds | 2 Baths $629,000 2769 Renee Way Bozeman, Montana 4 Beds | 3 Baths | 0.0826 Acres $599,900 1265 Baxter Creek Way A Bozeman, Montana 3 Beds | 3 Baths $599,000 213 Donna Avenue Bozeman, Montana 3 Beds | 2 Baths | 0.1825 Acres $599,000 1118 Saxon Way A Bozeman, Montana 3 Beds | 2 Baths $565,000 4040 Ravalli Street 101 Bozeman, Montana 2 Beds | 2 Baths $547,500 2945 Warbler 1 Bozeman, Montana 3 Beds | 3 Baths $545,000 4050 W Babcock 6 Bozeman, Montana 2 Beds | 2 Baths $530,000 2378 W Beall Street 2 Bozeman, Montana 2 Beds | 2 Baths $529,000 207 Prairie Grass Court D Bozeman, Montana 3 Beds | 2 Baths | 0 Acres $525,000 31 Halo Drive Bozeman, Montana 3 Beds | 2 Baths $520,000 1015 Longbow Lane A Bozeman, Montana 3 Beds | 3 Baths $489,800 462 Black Bull Trl B Bozeman, Montana 1 Bed | 1 Bath $485,000 3040 Winter Park Street A Bozeman, Montana 2 Beds | 2 Baths $479,000 205 S YELLOWSTONE AVE UNIT D D Bozeman, Montana 3 Beds | 2 Baths $469,000 323 Magdalene Way B Bozeman, Montana 3 Beds | 3 Baths $465,000 2365 Turkey Red Lane A Bozeman, Montana 2 Beds | 1 Bath | 0.907 Acres $417,500 29 Border Lane 2 Bozeman, Montana 3 Beds | 2 Baths $399,900 3327 N 27th Avenue 18 Bozeman, Montana 2 Beds | 2 Baths $399,000 3165 Mistral Way Bozeman, Montana 2 Beds | 1 Bath | 0.0854 Acres $389,000 170 Talon Way A Bozeman, Montana 2 Beds | 2 Baths $385,000 1703 W Olive Street 12 Bozeman, Montana 2 Beds | 1 Bath $385,000 2720 Sartain Street 305B Bozeman, Montana 1 Bed | 2 Baths $349,900 3505 A Fallon St A6 Bozeman, Montana 2 Beds | 1 Bath $349,900 3303 Fallon Street 1D Bozeman, Montana 2 Beds | 2 Baths $346,000 228 S Cottonwood Road 306 Bozeman, Montana 2 Beds | 2 Baths Information for Home Buyers Information for Home Sellers © Virtual Open House – We feature your home with our innovative 3D virtual walk-through tours which helps it stand out from competing homes. Learn More About Virtual Tours Open Open Open Open Open Open Open Open Open Open Open Open Open Open Open Open Open Open Open Open What our clients are saying: Jody Savage is knowledgeable, trustworthy and tireless. I purchased a property this spring (2017) near Bozeman; Jody represented me as well as the seller in the transaction. Jody led me through the entire process because this was the first property I had ever purchased. HOA complications and other details made the purchase more difficult. Jody undertook a boat-load of legwork to make the transaction go smoothly. I hope to work with Jody again. J.D. Jody is amazing. She knows the market and was able to advise us on all our many concerns. We so appreciated how responsive she was; within minutes of submitting an online request for realtor contact on a house, she had called us. All our communications with her were like that; we never had to wait long to hear back from her. She was patient and always willing to sit down and meet with us. When we found the house we wanted, she worked tirelessly to secure it for us, and she was extremely patient with us. She was easy to communicate with, understand, and a pleasure to work with – I highly recommend Jody! J.T. Jody was awesome to work with. We were new to the area and she was helpful and knowledgeable about not only the housing market, but schools, and lenders. She worked with my work schedule for showings. Jody also stayed late to write an offer to meet our schedule. I would recommend Jody to anyone needing a realtor. M.L. My wife and I used Jody Savage for the sale of our home in Gallatin Gateway, MT. Jody was exceptional in all phases of our sale. We had multiple offers over asking price and sold our home in two days! Jody uses up to date modern marketing, was extremely professional and knowledgeable regarding our market and addressing our needs. She was great to work with and very responsive to any questions we had. Jody is the best in the business and we highly recommend her services! G.B. Jody is FANTASTIC!! We were first time home buyers and she was with us ever step of the way! She never made us feel silly for being new to the process. She definitely knows the area, always kept us up to date on new listings and was just a delight to work with. I would have absolutely zero hesitation recommending her to anyone. Thanks for all the hard-work Jody! We love our house! K.G. We are proud to work with amazing clients from these local area businesses: Home Buyers Sellers Listings About Us Testimonials 3D Virtual Home Tours Bozeman Info Articles Contact Stay in touch - Sign up for our real estate newsletter Email Address * © 2022 Savage Real Estate Group. All Rights Reserved.'],\n",
              "      dtype=object)"
            ]
          },
          "execution_count": 18,
          "metadata": {},
          "output_type": "execute_result"
        }
      ],
      "source": [
        "text_corpus[0:1]"
      ]
    },
    {
      "cell_type": "code",
      "execution_count": 19,
      "metadata": {},
      "outputs": [],
      "source": [
        "processed_corpus = preprocess_documents(text_corpus)\n",
        "tagged_corpus = [TaggedDocument(d, [i]) for i, d in enumerate(processed_corpus)]"
      ]
    },
    {
      "cell_type": "code",
      "execution_count": 20,
      "metadata": {},
      "outputs": [
        {
          "data": {
            "text/plain": [
              "[TaggedDocument(words=['savag', 'real', 'estat', 'group', 'savag', 'real', 'estat', 'group', 'skip', 'content', 'savag', 'real', 'estat', 'group', 'serv', 'bozeman', 'gallatin', 'vallei', 'home', 'featur', 'list', 'list', 'virtual', 'home', 'tour', 'buyer', 'seller', 'market', 'stat', 'testimoni', 'bozeman', 'info', 'articl', 'contact', 'savag', 'real', 'estat', 'group', 'experienc', 'real', 'estat', 'brokerag', 'bozeman', 'serv', 'bozeman', 'belgrad', 'livingston', 'gallatin', 'vallei', 'view', 'list', 'citi', 'bozeman', 'belgrad', 'livingston', 'fork', 'riparian', 'wai', 'bozeman', 'montana', 'bed', 'bath', 'acr', 'vaquero', 'parkwai', 'bozeman', 'montana', 'bed', 'bath', 'acr', 'princeton', 'place', 'bozeman', 'montana', 'bed', 'bath', 'acr', 'kimber', 'court', 'bozeman', 'montana', 'bed', 'bath', 'acr', 'cambridg', 'drive', 'bozeman', 'montana', 'bed', 'bath', 'acr', 'copeland', 'bozeman', 'montana', 'bed', 'bath', 'acr', 'danub', 'lane', 'bozeman', 'montana', 'bed', 'bath', 'acr', 'manlei', 'road', 'bozeman', 'montana', 'bed', 'bath', 'acr', 'arrow', 'trail', 'bozeman', 'montana', 'bed', 'bath', 'acr', 'tschach', 'bozeman', 'montana', 'bed', 'bath', 'acr', 'perri', 'street', 'bozeman', 'montana', 'bed', 'bath', 'acr', 'hitch', 'post', 'bozeman', 'montana', 'bed', 'bath', 'acr', 'auger', 'lane', 'bozeman', 'montana', 'bed', 'bath', 'acr', 'circl', 'trl', 'bozeman', 'montana', 'bed', 'bath', 'acr', 'winchest', 'bozeman', 'montana', 'bed', 'bath', 'acr', 'arrow', 'trail', 'bozeman', 'montana', 'bed', 'bath', 'acr', 'hillcrest', 'drive', 'bozeman', 'montana', 'bed', 'bath', 'acr', 'parkland', 'trail', 'bozeman', 'montana', 'bed', 'bath', 'acr', 'mendenhal', 'avenu', 'bozeman', 'montana', 'bed', 'bath', 'ludwig', 'lane', 'bozeman', 'montana', 'bed', 'bath', 'acr', 'av', 'bozeman', 'montana', 'bed', 'bath', 'acr', 'lake', 'drive', 'bozeman', 'montana', 'bed', 'bath', 'acr', 'blackwood', 'road', 'bozeman', 'montana', 'bed', 'bath', 'acr', 'clifden', 'drive', 'bozeman', 'montana', 'bed', 'bath', 'acr', 'terrac', 'avenu', 'bozeman', 'montana', 'bed', 'bath', 'acr', 'ferguson', 'avenu', 'bozeman', 'montana', 'bed', 'bath', 'acr', 'avenu', 'bozeman', 'montana', 'bed', 'bath', 'acr', 'gale', 'court', 'bozeman', 'montana', 'bed', 'bath', 'acr', 'balsam', 'drive', 'bozeman', 'montana', 'bed', 'bath', 'acr', 'vahl', 'wai', 'bozeman', 'montana', 'bed', 'bath', 'acr', 'babcock', 'bozeman', 'montana', 'bed', 'bath', 'acr', 'sundanc', 'drive', 'bozeman', 'montana', 'bed', 'bath', 'acr', 'grand', 'avenu', 'bozeman', 'montana', 'bed', 'bath', 'acr', 'ryun', 'sun', 'wai', 'bozeman', 'montana', 'bed', 'bath', 'acr', 'pathfind', 'trail', 'bozeman', 'montana', 'bed', 'bath', 'acr', 'fairwai', 'drive', 'bozeman', 'montana', 'bed', 'bath', 'jacob', 'street', 'bozeman', 'montana', 'bed', 'bath', 'acr', 'clara', 'court', 'bozeman', 'montana', 'bed', 'bath', 'acr', 'avenu', 'bozeman', 'montana', 'bed', 'bath', 'acr', 'dogwood', 'drive', 'bozeman', 'montana', 'bed', 'bath', 'acr', 'oliv', 'street', 'bozeman', 'montana', 'bed', 'bath', 'acr', 'christoph', 'wai', 'bozeman', 'montana', 'bed', 'bath', 'aspen', 'street', 'bozeman', 'montana', 'bed', 'bath', 'acr', 'park', 'view', 'place', 'bozeman', 'montana', 'bed', 'bath', 'acr', 'mountain', 'elk', 'road', 'bozeman', 'montana', 'bed', 'bath', 'acr', 'battl', 'peak', 'drive', 'bozeman', 'montana', 'bed', 'bath', 'acr', 'cameron', 'loop', 'bozeman', 'montana', 'bed', 'bath', 'acr', 'short', 'bozeman', 'montana', 'bed', 'bath', 'acr', 'bozeman', 'montana', 'bed', 'bath', 'acr', 'brookdal', 'drive', 'bozeman', 'montana', 'bed', 'bath', 'acr', 'circl', 'trail', 'bozeman', 'montana', 'bed', 'bath', 'enterpris', 'boulevard', 'bozeman', 'montana', 'bed', 'bath', 'graf', 'street', 'bozeman', 'montana', 'bed', 'bath', 'caboos', 'court', 'bozeman', 'montana', 'bed', 'bath', 'circl', 'trail', 'bozeman', 'montana', 'bed', 'bath', 'damarel', 'bozeman', 'montana', 'bed', 'bath', 'acr', 'circl', 'trail', 'bozeman', 'montana', 'bed', 'bath', 'katina', 'court', 'bozeman', 'montana', 'bed', 'bath', 'acr', 'matheson', 'wai', 'bozeman', 'montana', 'bed', 'bath', 'acr', 'eagl', 'creek', 'drive', 'bozeman', 'montana', 'bed', 'bath', 'graf', 'street', 'bozeman', 'montana', 'bed', 'bath', 'meriweth', 'avenu', 'bozeman', 'montana', 'bed', 'bath', 'acr', 'vermeer', 'lane', 'bozeman', 'montana', 'bed', 'bath', 'acr', 'albrei', 'trail', 'bozeman', 'montana', 'bed', 'bath', 'crabappl', 'drive', 'bozeman', 'montana', 'bed', 'bath', 'acr', 'stillwat', 'creek', 'drive', 'bozeman', 'montana', 'bed', 'bath', 'valleyfir', 'lane', 'bozeman', 'montana', 'bed', 'bath', 'acr', 'bosal', 'street', 'bozeman', 'montana', 'bed', 'bath', 'acr', 'cassandra', 'lane', 'bozeman', 'montana', 'bed', 'bath', 'slough', 'creek', 'bozeman', 'montana', 'bed', 'bath', 'rene', 'wai', 'bozeman', 'montana', 'bed', 'bath', 'acr', 'baxter', 'creek', 'wai', 'bozeman', 'montana', 'bed', 'bath', 'donna', 'avenu', 'bozeman', 'montana', 'bed', 'bath', 'acr', 'saxon', 'wai', 'bozeman', 'montana', 'bed', 'bath', 'raval', 'street', 'bozeman', 'montana', 'bed', 'bath', 'warbler', 'bozeman', 'montana', 'bed', 'bath', 'babcock', 'bozeman', 'montana', 'bed', 'bath', 'beall', 'street', 'bozeman', 'montana', 'bed', 'bath', 'prairi', 'grass', 'court', 'bozeman', 'montana', 'bed', 'bath', 'acr', 'halo', 'drive', 'bozeman', 'montana', 'bed', 'bath', 'longbow', 'lane', 'bozeman', 'montana', 'bed', 'bath', 'black', 'bull', 'trl', 'bozeman', 'montana', 'bed', 'bath', 'winter', 'park', 'street', 'bozeman', 'montana', 'bed', 'bath', 'yellowston', 'av', 'unit', 'bozeman', 'montana', 'bed', 'bath', 'magdalen', 'wai', 'bozeman', 'montana', 'bed', 'bath', 'turkei', 'red', 'lane', 'bozeman', 'montana', 'bed', 'bath', 'acr', 'border', 'lane', 'bozeman', 'montana', 'bed', 'bath', 'avenu', 'bozeman', 'montana', 'bed', 'bath', 'mistral', 'wai', 'bozeman', 'montana', 'bed', 'bath', 'acr', 'talon', 'wai', 'bozeman', 'montana', 'bed', 'bath', 'oliv', 'street', 'bozeman', 'montana', 'bed', 'bath', 'sartain', 'street', 'bozeman', 'montana', 'bed', 'bath', 'fallon', 'bozeman', 'montana', 'bed', 'bath', 'fallon', 'street', 'bozeman', 'montana', 'bed', 'bath', 'cottonwood', 'road', 'bozeman', 'montana', 'bed', 'bath', 'inform', 'home', 'buyer', 'inform', 'home', 'seller', 'virtual', 'open', 'hous', 'featur', 'home', 'innov', 'virtual', 'walk', 'tour', 'help', 'stand', 'compet', 'home', 'learn', 'virtual', 'tour', 'open', 'open', 'open', 'open', 'open', 'open', 'open', 'open', 'open', 'open', 'open', 'open', 'open', 'open', 'open', 'open', 'open', 'open', 'open', 'open', 'client', 'sai', 'jodi', 'savag', 'knowledg', 'trustworthi', 'tireless', 'purchas', 'properti', 'spring', 'near', 'bozeman', 'jodi', 'repres', 'seller', 'transact', 'jodi', 'led', 'entir', 'process', 'properti', 'purchas', 'hoa', 'complic', 'detail', 'purchas', 'difficult', 'jodi', 'undertook', 'boat', 'load', 'legwork', 'transact', 'smoothli', 'hope', 'work', 'jodi', 'jodi', 'amaz', 'know', 'market', 'abl', 'advis', 'concern', 'appreci', 'respons', 'minut', 'submit', 'onlin', 'request', 'realtor', 'contact', 'hous', 'call', 'commun', 'like', 'wait', 'long', 'hear', 'patient', 'will', 'sit', 'meet', 'hous', 'want', 'work', 'tirelessli', 'secur', 'extrem', 'patient', 'easi', 'commun', 'understand', 'pleasur', 'work', 'highli', 'recommend', 'jodi', 'jodi', 'awesom', 'work', 'new', 'area', 'help', 'knowledg', 'hous', 'market', 'school', 'lender', 'work', 'work', 'schedul', 'show', 'jodi', 'stai', 'late', 'write', 'offer', 'meet', 'schedul', 'recommend', 'jodi', 'need', 'realtor', 'wife', 'jodi', 'savag', 'sale', 'home', 'gallatin', 'gatewai', 'jodi', 'except', 'phase', 'sale', 'multipl', 'offer', 'ask', 'price', 'sold', 'home', 'dai', 'jodi', 'us', 'date', 'modern', 'market', 'extrem', 'profession', 'knowledg', 'market', 'address', 'need', 'great', 'work', 'respons', 'question', 'jodi', 'best', 'busi', 'highli', 'recommend', 'servic', 'jodi', 'fantast', 'time', 'home', 'buyer', 'step', 'wai', 'feel', 'silli', 'new', 'process', 'definit', 'know', 'area', 'kept', 'date', 'new', 'list', 'delight', 'work', 'absolut', 'zero', 'hesit', 'recommend', 'thank', 'hard', 'work', 'jodi', 'love', 'hous', 'proud', 'work', 'amaz', 'client', 'local', 'area', 'busi', 'home', 'buyer', 'seller', 'list', 'testimoni', 'virtual', 'home', 'tour', 'bozeman', 'info', 'articl', 'contact', 'stai', 'touch', 'sign', 'real', 'estat', 'newslett', 'email', 'address', 'savag', 'real', 'estat', 'group', 'right', 'reserv'], tags=[0])]"
            ]
          },
          "execution_count": 20,
          "metadata": {},
          "output_type": "execute_result"
        }
      ],
      "source": [
        "tagged_corpus[0:1]"
      ]
    },
    {
      "cell_type": "code",
      "execution_count": 21,
      "metadata": {},
      "outputs": [],
      "source": [
        "#NOTE: Full transparency I bought a linear algebra course to try and understand all of the math behind this \n",
        "#and to date I only understand it at a high level but essentially what makes Doc2Vec (aka Paragraph Vector) so special\n",
        "#is that it uses two different architectures respectively called Distributed Memory and Distributed Bag of Words\n",
        "#which essentially build on similar concepts found in the Word2Vec algorithm and form what are known as context windows\n",
        "#to be able to remember what words frequently appear next to each other and essentially allow the model to understand\n",
        "#the semantics of a sentence which is something computers traditionally can't do.\n",
        "#(e.g. to know that \"powerful\" and \"strong\" and \"Paris\" are not equally distant. See the abstract put forth by\n",
        "# Doc2Vec creators found here: https://arxiv.org/pdf/1405.4053v2.pdf)\n",
        "\n",
        "import pickle\n",
        "model = Doc2Vec(tagged_corpus, dm=0, vector_size=200, window=2, min_count=1, epochs=100, hs=1)\n",
        "pickle.dump(model, open(\"./MODELS/podium_url_doc2vec_v1 copy.dat\", \"wb\"))\n",
        "\n",
        "# model = pickle.load(open('./MODELS/podium_url_doc2vec_v1 copy.dat', \"rb\"))"
      ]
    },
    {
      "cell_type": "code",
      "execution_count": 22,
      "metadata": {},
      "outputs": [],
      "source": [
        "#NOTE: Because this was an unsupervised model there wasn't a train/test set to check accuracy so I scraped 10 random websites\n",
        "#that fit into one of our subverts without knowledge of if they were in the original list of urls or not and \n",
        "#ran them against the model which returned the most similar documents. I then got the counts of most common words found\n",
        "#between each document to be able to gut-check if the results seemed to be accurate. For sake of time I will skip the \n",
        "#code explanation"
      ]
    },
    {
      "cell_type": "code",
      "execution_count": 23,
      "metadata": {},
      "outputs": [],
      "source": [
        "#Get some new urls for testing:\n",
        "import requests\n",
        "from bs4 import BeautifulSoup\n",
        "def scraper (url):\n",
        "    try:\n",
        "        page = requests.get(url,timeout=5)\n",
        "        x = BeautifulSoup(page.text, 'html.parser').get_text(separator=' ')\n",
        "        print(f\"{url} scraped successfully\")\n",
        "    except Exception as e:\n",
        "        print(e)\n",
        "        raise e\n",
        "        x = 'no response'\n",
        "    return x"
      ]
    },
    {
      "cell_type": "code",
      "execution_count": 24,
      "metadata": {},
      "outputs": [
        {
          "name": "stdout",
          "output_type": "stream",
          "text": [
            "https://www.automotiverepairportland.com/auto-body-collision-repair.php scraped successfully\n",
            "https://classiccollision.net/ scraped successfully\n",
            "https://www.clawsonheating.com/ scraped successfully\n",
            "https://www.bickmoreauto.com/ scraped successfully\n",
            "https://www.greshamford.com/ scraped successfully\n",
            "https://www.greshamroofing.com/ scraped successfully\n",
            "https://allphaseexterior.com/ scraped successfully\n",
            "https://www.ottossausage.com/ scraped successfully\n",
            "https://pawntalk.com/ scraped successfully\n",
            "https://www.furnitureconnexion.com/ scraped successfully\n"
          ]
        },
        {
          "data": {
            "text/plain": [
              "0    \\n \\n \\n \\n Auto Body & Collision Repair in Po...\n",
              "1    \\n \\n \\n \\n \\n \\n \\n \\n Auto Body and Collisio...\n",
              "2    \\n \\n \\n Portland, OR Heating & Air Conditioni...\n",
              "3    \\n \\n \\n \\n \\n \\n Bickmore Auto Sales - New & ...\n",
              "4              Gresham Ford | Oregon Ford Dealer | ...\n",
              "5    \\n \\n \\n \\n \\n \\n \\n \\n \\n \\n \\n \\n Gresham Ro...\n",
              "6    \\n 403 Forbidden \\n \\n 403 Forbidden \\n nginx ...\n",
              "7    Warning: Gravity Forms is not installed or act...\n",
              "8    \\n \\n \\n \\n \\n \\n \\n \\n \\n Silver Lining Jewel...\n",
              "9    \\n \\n \\n \\n \\n \\n \\n \\n \\n \\n \\n Furniture Con...\n",
              "Name: raw_html_text, dtype: object"
            ]
          },
          "execution_count": 24,
          "metadata": {},
          "output_type": "execute_result"
        }
      ],
      "source": [
        "urls = ['https://www.automotiverepairportland.com/auto-body-collision-repair.php','https://classiccollision.net/','https://www.clawsonheating.com/',\n",
        "'https://www.bickmoreauto.com/','https://www.greshamford.com/','https://www.greshamroofing.com/','https://allphaseexterior.com/',\n",
        "'https://www.ottossausage.com/','https://pawntalk.com/','https://www.furnitureconnexion.com/']\n",
        "output = []\n",
        "for u in urls:\n",
        "    l = scraper(u)\n",
        "    output.append(l)\n",
        "scraped = pd.Series(output)\n",
        "scraped.rename('raw_html_text',inplace=True)"
      ]
    },
    {
      "cell_type": "code",
      "execution_count": 25,
      "metadata": {},
      "outputs": [],
      "source": [
        "scraped = scraped.loc[scraped.notna()]\n",
        "scraped = scraped.loc[~scraped.isin(['no response'])]\n",
        "scraped = scraped.loc[~scraped.str.contains('Access was denied')]"
      ]
    },
    {
      "cell_type": "code",
      "execution_count": 26,
      "metadata": {},
      "outputs": [],
      "source": [
        "scraped = scraped.str.replace(\"\\n\",\"\")\n",
        "scraped = scraped.str.replace(\"\\t\",\"\")\n",
        "scraped = scraped.str.replace(\"\\r\",\"\")\n",
        "scraped = scraped.str.split()\n",
        "scraped = [\" \".join(x) for x in scraped]\n",
        "scraped = pd.Series(scraped)"
      ]
    },
    {
      "cell_type": "code",
      "execution_count": 27,
      "metadata": {},
      "outputs": [],
      "source": [
        "scraped = scraped.loc[scraped.str.len()>50].reset_index(drop=True)\n",
        "# scraped.loc[1]"
      ]
    },
    {
      "cell_type": "code",
      "execution_count": 28,
      "metadata": {},
      "outputs": [
        {
          "data": {
            "text/plain": [
              "index\n",
              "14999    Auto Body & Collision Repair in Portland, OR a...\n",
              "1722     Auto Body and Collision Repair - Classic Colli...\n",
              "10130    Portland, OR Heating & Air Conditioning | HVAC...\n",
              "9008     Bickmore Auto Sales - New & Used Cars, Service...\n",
              "15031    Gresham Ford | Oregon Ford Dealer | Serving Gr...\n",
              "8744     Gresham Roofing and Construction | Gresham, OR...\n",
              "10267    Warning: Gravity Forms is not installed or act...\n",
              "8978     Silver Lining Jewelry and Loan - Oregon's Frie...\n",
              "8847     Furniture Connexion | Portland Furniture Store...\n",
              "Name: new_scraped_test_data, dtype: object"
            ]
          },
          "execution_count": 28,
          "metadata": {},
          "output_type": "execute_result"
        }
      ],
      "source": [
        "index_lst = []\n",
        "def get_best_score(df, s):\n",
        "    new_doc = s\n",
        "    new_doc = gensim.parsing.preprocessing.preprocess_string(new_doc)\n",
        "    test_doc_vector = model.infer_vector(new_doc)\n",
        "    sims = model.dv.most_similar(positive = [test_doc_vector])\n",
        "    index = sims[0][0]\n",
        "    index_similarity_score = sims[0][1]\n",
        "    df.loc[index,'index_similarity_score'] = index_similarity_score\n",
        "    df.loc[index,'new_scraped_test_data'] = str(s)\n",
        "    index_lst.append(index)\n",
        "    return df\n",
        "\n",
        "for z in scraped:\n",
        "    get_best_score(location_urls, z)\n",
        "\n",
        "sample_df = location_urls.loc[index_lst]\n",
        "sample_df.columns\n",
        "sample_df['new_scraped_test_data']\n",
        "\n",
        "\n",
        "# for s in sims:\n",
        "    # print(f\"{(s[1])} | {location_urls['raw_html_text'].iloc[s[0]]}\")"
      ]
    },
    {
      "cell_type": "code",
      "execution_count": 30,
      "metadata": {},
      "outputs": [],
      "source": [
        "sample_df.index.name = 'index'"
      ]
    },
    {
      "cell_type": "code",
      "execution_count": 31,
      "metadata": {},
      "outputs": [
        {
          "data": {
            "text/html": [
              "<div>\n",
              "<style scoped>\n",
              "    .dataframe tbody tr th:only-of-type {\n",
              "        vertical-align: middle;\n",
              "    }\n",
              "\n",
              "    .dataframe tbody tr th {\n",
              "        vertical-align: top;\n",
              "    }\n",
              "\n",
              "    .dataframe thead th {\n",
              "        text-align: right;\n",
              "    }\n",
              "</style>\n",
              "<table border=\"1\" class=\"dataframe\">\n",
              "  <thead>\n",
              "    <tr style=\"text-align: right;\">\n",
              "      <th></th>\n",
              "      <th>Account_Name</th>\n",
              "      <th>Org_UID</th>\n",
              "      <th>Opportunity_Name</th>\n",
              "      <th>Type</th>\n",
              "      <th>url</th>\n",
              "      <th>raw_html_text</th>\n",
              "      <th>index_similarity_score</th>\n",
              "      <th>new_scraped_test_data</th>\n",
              "    </tr>\n",
              "    <tr>\n",
              "      <th>index</th>\n",
              "      <th></th>\n",
              "      <th></th>\n",
              "      <th></th>\n",
              "      <th></th>\n",
              "      <th></th>\n",
              "      <th></th>\n",
              "      <th></th>\n",
              "      <th></th>\n",
              "    </tr>\n",
              "  </thead>\n",
              "  <tbody>\n",
              "    <tr>\n",
              "      <th>14999</th>\n",
              "      <td>Pronto Body Shop, Inc.</td>\n",
              "      <td>NaN</td>\n",
              "      <td>NaN</td>\n",
              "      <td>NaN</td>\n",
              "      <td>https://prontobodyshop.com/</td>\n",
              "      <td>Pronto Body Shop: Auto Collision Repair &amp; Pain...</td>\n",
              "      <td>0.522350</td>\n",
              "      <td>Auto Body &amp; Collision Repair in Portland, OR a...</td>\n",
              "    </tr>\n",
              "    <tr>\n",
              "      <th>1722</th>\n",
              "      <td>Crystal Lake Automotive, Inc.</td>\n",
              "      <td>NaN</td>\n",
              "      <td>Crystal Lake Automotive</td>\n",
              "      <td>New Business</td>\n",
              "      <td>http://www.crystallakeautomotive.com</td>\n",
              "      <td>Auto Body and Collision Repair - Classic Colli...</td>\n",
              "      <td>0.945264</td>\n",
              "      <td>Auto Body and Collision Repair - Classic Colli...</td>\n",
              "    </tr>\n",
              "    <tr>\n",
              "      <th>10130</th>\n",
              "      <td>Holder - Inbound Account G</td>\n",
              "      <td>NaN</td>\n",
              "      <td>NaN</td>\n",
              "      <td>NaN</td>\n",
              "      <td>http://www.nicholsonsheatingcooling.com</td>\n",
              "      <td>Pine Bluff HVAC Company | Professional Heating...</td>\n",
              "      <td>0.609336</td>\n",
              "      <td>Portland, OR Heating &amp; Air Conditioning | HVAC...</td>\n",
              "    </tr>\n",
              "    <tr>\n",
              "      <th>9008</th>\n",
              "      <td>Big Sky Motorsports</td>\n",
              "      <td>NaN</td>\n",
              "      <td>NaN</td>\n",
              "      <td>NaN</td>\n",
              "      <td>https://www.bigskymotorsports.com/</td>\n",
              "      <td>Big Sky Motorsports | Powersports Dealership i...</td>\n",
              "      <td>0.407272</td>\n",
              "      <td>Bickmore Auto Sales - New &amp; Used Cars, Service...</td>\n",
              "    </tr>\n",
              "    <tr>\n",
              "      <th>15031</th>\n",
              "      <td>AMSI Automotive Group</td>\n",
              "      <td>NaN</td>\n",
              "      <td>NaN</td>\n",
              "      <td>NaN</td>\n",
              "      <td>http://www.athensford.com</td>\n",
              "      <td>Athens Ford | New &amp; Used Ford Dealer in Athens...</td>\n",
              "      <td>0.607731</td>\n",
              "      <td>Gresham Ford | Oregon Ford Dealer | Serving Gr...</td>\n",
              "    </tr>\n",
              "    <tr>\n",
              "      <th>8744</th>\n",
              "      <td>R &amp; R Roofing Inc</td>\n",
              "      <td>NaN</td>\n",
              "      <td>NaN</td>\n",
              "      <td>NaN</td>\n",
              "      <td>https://www.rnrroofing.com/</td>\n",
              "      <td>Roofing Company Wilmington DE | R &amp; R Roofing ...</td>\n",
              "      <td>0.457915</td>\n",
              "      <td>Gresham Roofing and Construction | Gresham, OR...</td>\n",
              "    </tr>\n",
              "    <tr>\n",
              "      <th>10267</th>\n",
              "      <td>The Fresh Market</td>\n",
              "      <td>NaN</td>\n",
              "      <td>NaN</td>\n",
              "      <td>NaN</td>\n",
              "      <td>http://www.thefreshmarket.com</td>\n",
              "      <td>The Fresh Market | Delicious Easy Meals | Seas...</td>\n",
              "      <td>0.347840</td>\n",
              "      <td>Warning: Gravity Forms is not installed or act...</td>\n",
              "    </tr>\n",
              "    <tr>\n",
              "      <th>8978</th>\n",
              "      <td>The Vault Jewelry and Loan</td>\n",
              "      <td>NaN</td>\n",
              "      <td>The Vault Jewelry</td>\n",
              "      <td>New Business</td>\n",
              "      <td>https://thevaultloans.com/?utm_source=google&amp;u...</td>\n",
              "      <td>Luxury Pawn Shop in VA | The Vault Jewelry &amp; L...</td>\n",
              "      <td>0.493470</td>\n",
              "      <td>Silver Lining Jewelry and Loan - Oregon's Frie...</td>\n",
              "    </tr>\n",
              "    <tr>\n",
              "      <th>8847</th>\n",
              "      <td>Virginia Furniture Market</td>\n",
              "      <td>NaN</td>\n",
              "      <td>NaN</td>\n",
              "      <td>NaN</td>\n",
              "      <td>http://www.vafurnituremarket.com</td>\n",
              "      <td>Virginia Furniture Market | Rocky Mount, Roano...</td>\n",
              "      <td>0.496830</td>\n",
              "      <td>Furniture Connexion | Portland Furniture Store...</td>\n",
              "    </tr>\n",
              "  </tbody>\n",
              "</table>\n",
              "</div>"
            ],
            "text/plain": [
              "                        Account_Name Org_UID         Opportunity_Name  \\\n",
              "index                                                                   \n",
              "14999         Pronto Body Shop, Inc.     NaN                      NaN   \n",
              "1722   Crystal Lake Automotive, Inc.     NaN  Crystal Lake Automotive   \n",
              "10130     Holder - Inbound Account G     NaN                      NaN   \n",
              "9008             Big Sky Motorsports     NaN                      NaN   \n",
              "15031          AMSI Automotive Group     NaN                      NaN   \n",
              "8744               R & R Roofing Inc     NaN                      NaN   \n",
              "10267               The Fresh Market     NaN                      NaN   \n",
              "8978      The Vault Jewelry and Loan     NaN        The Vault Jewelry   \n",
              "8847       Virginia Furniture Market     NaN                      NaN   \n",
              "\n",
              "               Type                                                url  \\\n",
              "index                                                                    \n",
              "14999           NaN                        https://prontobodyshop.com/   \n",
              "1722   New Business               http://www.crystallakeautomotive.com   \n",
              "10130           NaN            http://www.nicholsonsheatingcooling.com   \n",
              "9008            NaN                 https://www.bigskymotorsports.com/   \n",
              "15031           NaN                          http://www.athensford.com   \n",
              "8744            NaN                        https://www.rnrroofing.com/   \n",
              "10267           NaN                      http://www.thefreshmarket.com   \n",
              "8978   New Business  https://thevaultloans.com/?utm_source=google&u...   \n",
              "8847            NaN                   http://www.vafurnituremarket.com   \n",
              "\n",
              "                                           raw_html_text  \\\n",
              "index                                                      \n",
              "14999  Pronto Body Shop: Auto Collision Repair & Pain...   \n",
              "1722   Auto Body and Collision Repair - Classic Colli...   \n",
              "10130  Pine Bluff HVAC Company | Professional Heating...   \n",
              "9008   Big Sky Motorsports | Powersports Dealership i...   \n",
              "15031  Athens Ford | New & Used Ford Dealer in Athens...   \n",
              "8744   Roofing Company Wilmington DE | R & R Roofing ...   \n",
              "10267  The Fresh Market | Delicious Easy Meals | Seas...   \n",
              "8978   Luxury Pawn Shop in VA | The Vault Jewelry & L...   \n",
              "8847   Virginia Furniture Market | Rocky Mount, Roano...   \n",
              "\n",
              "       index_similarity_score  \\\n",
              "index                           \n",
              "14999                0.522350   \n",
              "1722                 0.945264   \n",
              "10130                0.609336   \n",
              "9008                 0.407272   \n",
              "15031                0.607731   \n",
              "8744                 0.457915   \n",
              "10267                0.347840   \n",
              "8978                 0.493470   \n",
              "8847                 0.496830   \n",
              "\n",
              "                                   new_scraped_test_data  \n",
              "index                                                     \n",
              "14999  Auto Body & Collision Repair in Portland, OR a...  \n",
              "1722   Auto Body and Collision Repair - Classic Colli...  \n",
              "10130  Portland, OR Heating & Air Conditioning | HVAC...  \n",
              "9008   Bickmore Auto Sales - New & Used Cars, Service...  \n",
              "15031  Gresham Ford | Oregon Ford Dealer | Serving Gr...  \n",
              "8744   Gresham Roofing and Construction | Gresham, OR...  \n",
              "10267  Warning: Gravity Forms is not installed or act...  \n",
              "8978   Silver Lining Jewelry and Loan - Oregon's Frie...  \n",
              "8847   Furniture Connexion | Portland Furniture Store...  "
            ]
          },
          "execution_count": 31,
          "metadata": {},
          "output_type": "execute_result"
        }
      ],
      "source": [
        "indices = sample_df.index.values\n",
        "sample_df"
      ]
    },
    {
      "cell_type": "code",
      "execution_count": 32,
      "metadata": {},
      "outputs": [],
      "source": [
        "# from sklearn.feature_extraction.text import TfidfVectorizer\n",
        "from collections import Counter\n",
        "from gensim.parsing.preprocessing import remove_stopwords\n",
        "import numpy as np\n",
        "\n",
        "def get_tfidf_top_10(df,i):\n",
        "    s = df['raw_html_text'].loc[i].split()\n",
        "    x = df['new_scraped_test_data'].loc[i].split()\n",
        "    lst = []\n",
        "    for y in s: \n",
        "            if y in x:\n",
        "                lst.append(y)\n",
        "    return lst\n",
        "\n",
        "mast_lst = []\n",
        "for i in indices:\n",
        "    lst = get_tfidf_top_10(sample_df,i)\n",
        "    lst = [remove_stopwords(x) for x in lst]\n",
        "    lst = Counter(lst).most_common(10)\n",
        "    lst = pd.Series(lst)\n",
        "    mast_lst.append(lst)\n",
        "sample_df['most_common_words_between_docs'] = mast_lst\n",
        "\n"
      ]
    },
    {
      "cell_type": "code",
      "execution_count": 33,
      "metadata": {},
      "outputs": [],
      "source": [
        "sample_df.to_csv('./DATASETS/embeddings_and_most_common_words.csv')"
      ]
    },
    {
      "cell_type": "code",
      "execution_count": 34,
      "metadata": {},
      "outputs": [],
      "source": [
        "#NOTE: Potential use cases of this that I see are:\n",
        "#1. Help with identifying patterns of top converting businesses within desireable strikezones to better target\n",
        "#our lead scoring efforts\n",
        "#2. Automating sub-vertical assignment/fixing incorrectly assigned sub-verts on our contacts\n",
        "#3. Help with deduping to find the exact website or similar websites between new records coming in and existing records\n",
        "\n",
        "#Thanks for listening!\n"
      ]
    }
  ],
  "metadata": {
    "interpreter": {
      "hash": "d8bb39ad79e96162995fe168c0e379230710de32e531923c814354555fdab8da"
    },
    "kernelspec": {
      "display_name": "Python 3.9.7 ('base')",
      "language": "python",
      "name": "python3"
    },
    "language_info": {
      "codemirror_mode": {
        "name": "ipython",
        "version": 3
      },
      "file_extension": ".py",
      "mimetype": "text/x-python",
      "name": "python",
      "nbconvert_exporter": "python",
      "pygments_lexer": "ipython3",
      "version": "3.7.0"
    },
    "orig_nbformat": 4
  },
  "nbformat": 4,
  "nbformat_minor": 2
}
